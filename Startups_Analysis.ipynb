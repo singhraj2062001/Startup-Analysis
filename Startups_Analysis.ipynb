{
 "cells": [
  {
   "cell_type": "code",
   "execution_count": 1,
   "id": "fa2c56c3",
   "metadata": {},
   "outputs": [],
   "source": [
    "import pandas as pd\n",
    "from matplotlib import pyplot as plt\n",
    "import seaborn as sns\n",
    "import numpy as np"
   ]
  },
  {
   "cell_type": "code",
   "execution_count": 2,
   "id": "7cf688da",
   "metadata": {},
   "outputs": [],
   "source": [
    "data = pd.read_csv(\"startup_funding.csv\")"
   ]
  },
  {
   "cell_type": "code",
   "execution_count": 3,
   "id": "7f011190",
   "metadata": {},
   "outputs": [
    {
     "data": {
      "text/plain": [
       "(2372, 10)"
      ]
     },
     "execution_count": 3,
     "metadata": {},
     "output_type": "execute_result"
    }
   ],
   "source": [
    "data.shape"
   ]
  },
  {
   "cell_type": "code",
   "execution_count": 4,
   "id": "c7156835",
   "metadata": {},
   "outputs": [
    {
     "data": {
      "text/html": [
       "<div>\n",
       "<style scoped>\n",
       "    .dataframe tbody tr th:only-of-type {\n",
       "        vertical-align: middle;\n",
       "    }\n",
       "\n",
       "    .dataframe tbody tr th {\n",
       "        vertical-align: top;\n",
       "    }\n",
       "\n",
       "    .dataframe thead th {\n",
       "        text-align: right;\n",
       "    }\n",
       "</style>\n",
       "<table border=\"1\" class=\"dataframe\">\n",
       "  <thead>\n",
       "    <tr style=\"text-align: right;\">\n",
       "      <th></th>\n",
       "      <th>SNo</th>\n",
       "      <th>Date</th>\n",
       "      <th>StartupName</th>\n",
       "      <th>IndustryVertical</th>\n",
       "      <th>SubVertical</th>\n",
       "      <th>CityLocation</th>\n",
       "      <th>InvestorsName</th>\n",
       "      <th>InvestmentType</th>\n",
       "      <th>AmountInUSD</th>\n",
       "      <th>Remarks</th>\n",
       "    </tr>\n",
       "  </thead>\n",
       "  <tbody>\n",
       "    <tr>\n",
       "      <th>0</th>\n",
       "      <td>0</td>\n",
       "      <td>01-08-2017</td>\n",
       "      <td>TouchKin</td>\n",
       "      <td>Technology</td>\n",
       "      <td>Predictive Care Platform</td>\n",
       "      <td>Bangalore</td>\n",
       "      <td>Kae Capital</td>\n",
       "      <td>Private Equity</td>\n",
       "      <td>13,00,000</td>\n",
       "      <td>NaN</td>\n",
       "    </tr>\n",
       "    <tr>\n",
       "      <th>1</th>\n",
       "      <td>1</td>\n",
       "      <td>02-08-2017</td>\n",
       "      <td>Ethinos</td>\n",
       "      <td>Technology</td>\n",
       "      <td>Digital Marketing Agency</td>\n",
       "      <td>Mumbai</td>\n",
       "      <td>Triton Investment Advisors</td>\n",
       "      <td>Private Equity</td>\n",
       "      <td>NaN</td>\n",
       "      <td>NaN</td>\n",
       "    </tr>\n",
       "    <tr>\n",
       "      <th>2</th>\n",
       "      <td>2</td>\n",
       "      <td>02-08-2017</td>\n",
       "      <td>Leverage Edu</td>\n",
       "      <td>Consumer Internet</td>\n",
       "      <td>Online platform for Higher Education Services</td>\n",
       "      <td>New Delhi</td>\n",
       "      <td>Kashyap Deorah, Anand Sankeshwar, Deepak Jain,...</td>\n",
       "      <td>Seed Funding</td>\n",
       "      <td>NaN</td>\n",
       "      <td>NaN</td>\n",
       "    </tr>\n",
       "    <tr>\n",
       "      <th>3</th>\n",
       "      <td>3</td>\n",
       "      <td>02-08-2017</td>\n",
       "      <td>Zepo</td>\n",
       "      <td>Consumer Internet</td>\n",
       "      <td>DIY Ecommerce platform</td>\n",
       "      <td>Mumbai</td>\n",
       "      <td>Kunal Shah, LetsVenture, Anupam Mittal, Hetal ...</td>\n",
       "      <td>Seed Funding</td>\n",
       "      <td>5,00,000</td>\n",
       "      <td>NaN</td>\n",
       "    </tr>\n",
       "    <tr>\n",
       "      <th>4</th>\n",
       "      <td>4</td>\n",
       "      <td>02-08-2017</td>\n",
       "      <td>Click2Clinic</td>\n",
       "      <td>Consumer Internet</td>\n",
       "      <td>healthcare service aggregator</td>\n",
       "      <td>Hyderabad</td>\n",
       "      <td>Narottam Thudi, Shireesh Palle</td>\n",
       "      <td>Seed Funding</td>\n",
       "      <td>8,50,000</td>\n",
       "      <td>NaN</td>\n",
       "    </tr>\n",
       "  </tbody>\n",
       "</table>\n",
       "</div>"
      ],
      "text/plain": [
       "   SNo        Date   StartupName   IndustryVertical  \\\n",
       "0    0  01-08-2017      TouchKin         Technology   \n",
       "1    1  02-08-2017       Ethinos         Technology   \n",
       "2    2  02-08-2017  Leverage Edu  Consumer Internet   \n",
       "3    3  02-08-2017          Zepo  Consumer Internet   \n",
       "4    4  02-08-2017  Click2Clinic  Consumer Internet   \n",
       "\n",
       "                                     SubVertical CityLocation  \\\n",
       "0                       Predictive Care Platform    Bangalore   \n",
       "1                       Digital Marketing Agency       Mumbai   \n",
       "2  Online platform for Higher Education Services    New Delhi   \n",
       "3                         DIY Ecommerce platform       Mumbai   \n",
       "4                  healthcare service aggregator    Hyderabad   \n",
       "\n",
       "                                       InvestorsName  InvestmentType  \\\n",
       "0                                        Kae Capital  Private Equity   \n",
       "1                         Triton Investment Advisors  Private Equity   \n",
       "2  Kashyap Deorah, Anand Sankeshwar, Deepak Jain,...    Seed Funding   \n",
       "3  Kunal Shah, LetsVenture, Anupam Mittal, Hetal ...    Seed Funding   \n",
       "4                     Narottam Thudi, Shireesh Palle    Seed Funding   \n",
       "\n",
       "  AmountInUSD Remarks  \n",
       "0   13,00,000     NaN  \n",
       "1         NaN     NaN  \n",
       "2         NaN     NaN  \n",
       "3    5,00,000     NaN  \n",
       "4    8,50,000     NaN  "
      ]
     },
     "execution_count": 4,
     "metadata": {},
     "output_type": "execute_result"
    }
   ],
   "source": [
    "data.head()"
   ]
  },
  {
   "cell_type": "code",
   "execution_count": 5,
   "id": "04193126",
   "metadata": {},
   "outputs": [],
   "source": [
    "data.drop(['SNo','Remarks'], axis=1, inplace=True)"
   ]
  },
  {
   "cell_type": "code",
   "execution_count": 6,
   "id": "4d145c4a",
   "metadata": {},
   "outputs": [],
   "source": [
    "data = data.fillna('Data Unavailable')"
   ]
  },
  {
   "cell_type": "markdown",
   "id": "3d2431e1",
   "metadata": {},
   "source": [
    "# Fundings in each year!"
   ]
  },
  {
   "cell_type": "code",
   "execution_count": 619,
   "id": "55d28932",
   "metadata": {
    "scrolled": true
   },
   "outputs": [],
   "source": [
    "data['Date'] = pd.to_datetime(data['Date'])\n"
   ]
  },
  {
   "cell_type": "code",
   "execution_count": 617,
   "id": "46af6f90",
   "metadata": {},
   "outputs": [],
   "source": [
    "data['year'] = pd.DatetimeIndex(data['Date']).year"
   ]
  },
  {
   "cell_type": "code",
   "execution_count": 618,
   "id": "5fdd5571",
   "metadata": {},
   "outputs": [
    {
     "data": {
      "text/plain": [
       "2016    993\n",
       "2015    936\n",
       "2017    443\n",
       "Name: year, dtype: int64"
      ]
     },
     "execution_count": 618,
     "metadata": {},
     "output_type": "execute_result"
    }
   ],
   "source": [
    "data['year'].value_counts()"
   ]
  },
  {
   "cell_type": "code",
   "execution_count": 253,
   "id": "2b2fe3b3",
   "metadata": {},
   "outputs": [],
   "source": [
    "year = list(data['year'].value_counts().keys())\n",
    "fundings = list(data['year'].value_counts())"
   ]
  },
  {
   "cell_type": "code",
   "execution_count": 254,
   "id": "496048b4",
   "metadata": {},
   "outputs": [],
   "source": [
    "year[0], year[1]=year[1], year[0]"
   ]
  },
  {
   "cell_type": "code",
   "execution_count": 255,
   "id": "d3ae47cf",
   "metadata": {},
   "outputs": [
    {
     "data": {
      "text/plain": [
       "[2015, 2016, 2017]"
      ]
     },
     "execution_count": 255,
     "metadata": {},
     "output_type": "execute_result"
    }
   ],
   "source": [
    "year"
   ]
  },
  {
   "cell_type": "code",
   "execution_count": 256,
   "id": "e1011e48",
   "metadata": {},
   "outputs": [],
   "source": [
    "fundings[0], fundings[1] = fundings[1], fundings[0]"
   ]
  },
  {
   "cell_type": "code",
   "execution_count": 257,
   "id": "a3fa02f8",
   "metadata": {},
   "outputs": [
    {
     "data": {
      "text/plain": [
       "[936, 993, 443]"
      ]
     },
     "execution_count": 257,
     "metadata": {},
     "output_type": "execute_result"
    }
   ],
   "source": [
    "fundings"
   ]
  },
  {
   "cell_type": "code",
   "execution_count": 258,
   "id": "30d38589",
   "metadata": {},
   "outputs": [
    {
     "name": "stdout",
     "output_type": "stream",
     "text": [
      "2015  936\n",
      "2016  993\n",
      "2017  443\n"
     ]
    }
   ],
   "source": [
    "dic = dict(zip(year, fundings))\n",
    "for i in dic:\n",
    "    print(i,'',dic[i])"
   ]
  },
  {
   "cell_type": "code",
   "execution_count": 259,
   "id": "ec7ff8bf",
   "metadata": {},
   "outputs": [
    {
     "data": {
      "image/png": "[encoded data removed]",
      "text/plain": [
       "<Figure size 432x288 with 1 Axes>"
      ]
     },
     "metadata": {
      "needs_background": "light"
     },
     "output_type": "display_data"
    }
   ],
   "source": [
    "plt.plot(year,fundings)\n",
    "plt.grid()\n",
    "plt.xticks(year, rotation='vertical')\n",
    "plt.title('Number of fundings in each year')\n",
    "plt.show()"
   ]
  },
  {
   "cell_type": "markdown",
   "id": "6abba252",
   "metadata": {},
   "source": [
    "# No. of startups in each city"
   ]
  },
  {
   "cell_type": "code",
   "execution_count": 260,
   "id": "97091e48",
   "metadata": {},
   "outputs": [],
   "source": [
    "data['City'] = data['CityLocation']"
   ]
  },
  {
   "cell_type": "code",
   "execution_count": 261,
   "id": "d7f67107",
   "metadata": {},
   "outputs": [],
   "source": [
    " top_cities = data['City'].value_counts().drop('Data Unavailable')[0:10]"
   ]
  },
  {
   "cell_type": "code",
   "execution_count": 262,
   "id": "cd8e9fb4",
   "metadata": {},
   "outputs": [
    {
     "data": {
      "text/plain": [
       "Bangalore    628\n",
       "Mumbai       446\n",
       "New Delhi    385\n",
       "Gurgaon      240\n",
       "Pune          84\n",
       "Noida         78\n",
       "Hyderabad     76\n",
       "Chennai       66\n",
       "Ahmedabad     35\n",
       "Jaipur        25\n",
       "Name: City, dtype: int64"
      ]
     },
     "execution_count": 262,
     "metadata": {},
     "output_type": "execute_result"
    }
   ],
   "source": [
    "top_cities"
   ]
  },
  {
   "cell_type": "code",
   "execution_count": 263,
   "id": "86dd2171",
   "metadata": {},
   "outputs": [],
   "source": [
    "cities = list(top_cities.keys())\n",
    "startups = list(top_cities)"
   ]
  },
  {
   "cell_type": "code",
   "execution_count": 264,
   "id": "00a7e157",
   "metadata": {},
   "outputs": [
    {
     "data": {
      "image/png": "[encoded data removed]",
      "text/plain": [
       "<Figure size 432x288 with 1 Axes>"
      ]
     },
     "metadata": {},
     "output_type": "display_data"
    }
   ],
   "source": [
    "plt.title('Percentage of startups in each city!')\n",
    "plt.pie(startups, labels = cities, radius=2, autopct='%0.1d%%')\n",
    "\n",
    "plt.show()"
   ]
  },
  {
   "cell_type": "code",
   "execution_count": 265,
   "id": "c16c8b92",
   "metadata": {},
   "outputs": [],
   "source": [
    "#data['City'].value_counts()[10:60]"
   ]
  },
  {
   "cell_type": "markdown",
   "id": "da6d73db",
   "metadata": {},
   "source": [
    "# Top cities with most amount of fundings received"
   ]
  },
  {
   "cell_type": "code",
   "execution_count": 266,
   "id": "8d711b40",
   "metadata": {},
   "outputs": [],
   "source": [
    "df = data.loc[(data['AmountInUSD'] != 'Data Unavailable' ),['CityLocation','AmountInUSD']]"
   ]
  },
  {
   "cell_type": "code",
   "execution_count": 267,
   "id": "b972d7dc",
   "metadata": {},
   "outputs": [
    {
     "data": {
      "text/plain": [
       "Bangalore    406\n",
       "Mumbai       300\n",
       "New Delhi    213\n",
       "Gurgaon      165\n",
       "Pune          54\n",
       "Hyderabad     53\n",
       "Chennai       47\n",
       "Noida         45\n",
       "Ahmedabad     25\n",
       "Jaipur        10\n",
       "Name: CityLocation, dtype: int64"
      ]
     },
     "execution_count": 267,
     "metadata": {},
     "output_type": "execute_result"
    }
   ],
   "source": [
    "df2 = df['CityLocation'].value_counts().drop('Data Unavailable')[0:10]\n",
    "df2"
   ]
  },
  {
   "cell_type": "code",
   "execution_count": 268,
   "id": "bc00cc4a",
   "metadata": {},
   "outputs": [],
   "source": [
    "top_cities = list(df2.keys())\n",
    "no_of_fundings = []\n",
    "\n",
    "# for counting multiple values\n",
    "\n",
    "for i in top_cities:\n",
    "    df3 = data.loc[(data['CityLocation'].str.startswith(i)) & (data['AmountInUSD'] != 'Data Unavailable'),['CityLocation','AmountInUSD']].shape[0]\n",
    "    no_of_fundings.append(df3)    "
   ]
  },
  {
   "cell_type": "code",
   "execution_count": 269,
   "id": "893a4cea",
   "metadata": {},
   "outputs": [
    {
     "data": {
      "text/plain": [
       "['Bangalore',\n",
       " 'Mumbai',\n",
       " 'New Delhi',\n",
       " 'Gurgaon',\n",
       " 'Pune',\n",
       " 'Hyderabad',\n",
       " 'Chennai',\n",
       " 'Noida',\n",
       " 'Ahmedabad',\n",
       " 'Jaipur']"
      ]
     },
     "execution_count": 269,
     "metadata": {},
     "output_type": "execute_result"
    }
   ],
   "source": [
    "top_cities"
   ]
  },
  {
   "cell_type": "code",
   "execution_count": 270,
   "id": "075a1fa5",
   "metadata": {},
   "outputs": [
    {
     "data": {
      "text/plain": [
       "[413, 303, 215, 166, 60, 54, 47, 46, 25, 10]"
      ]
     },
     "execution_count": 270,
     "metadata": {},
     "output_type": "execute_result"
    }
   ],
   "source": [
    "no_of_fundings"
   ]
  },
  {
   "cell_type": "code",
   "execution_count": 271,
   "id": "408e7d79",
   "metadata": {},
   "outputs": [
    {
     "name": "stdout",
     "output_type": "stream",
     "text": [
      "Bangalore  30.84\n",
      "Mumbai  22.63\n",
      "New Delhi  16.06\n",
      "Gurgaon  12.40\n",
      "Pune  4.48\n",
      "Hyderabad  4.03\n",
      "Chennai  3.51\n",
      "Noida  3.44\n",
      "Ahmedabad  1.87\n",
      "Jaipur  0.75\n"
     ]
    }
   ],
   "source": [
    "dic1 = dict(zip(top_cities, no_of_fundings))\n",
    "for i in dic1:\n",
    "    j = (dic1[i]*100)/np.sum(no_of_fundings)\n",
    "    print(i,'','%.2f' %  j)                      # using '%.2f' % for rounding values to 2 decimal"
   ]
  },
  {
   "cell_type": "code",
   "execution_count": 640,
   "id": "170db75a",
   "metadata": {},
   "outputs": [
    {
     "data": {
      "image/png": "[encoded data removed]",
      "text/plain": [
       "<Figure size 432x288 with 1 Axes>"
      ]
     },
     "metadata": {},
     "output_type": "display_data"
    }
   ],
   "source": [
    "plt.pie(no_of_fundings, labels=top_cities, radius = 2, autopct='%0.1f%%')\n",
    "plt.title('Top cities with most amount of fundings received')\n",
    "\n",
    "plt.show()"
   ]
  },
  {
   "cell_type": "markdown",
   "id": "ab765444",
   "metadata": {},
   "source": [
    "# Percentage of amount funded for each investment type"
   ]
  },
  {
   "cell_type": "code",
   "execution_count": 273,
   "id": "ad0aceed",
   "metadata": {},
   "outputs": [],
   "source": [
    "df4 = data.loc[(data['AmountInUSD'] != 'Data Unavailable'),['InvestmentType', 'AmountInUSD']]"
   ]
  },
  {
   "cell_type": "code",
   "execution_count": 274,
   "id": "ae5624ab",
   "metadata": {},
   "outputs": [
    {
     "data": {
      "text/html": [
       "<div>\n",
       "<style scoped>\n",
       "    .dataframe tbody tr th:only-of-type {\n",
       "        vertical-align: middle;\n",
       "    }\n",
       "\n",
       "    .dataframe tbody tr th {\n",
       "        vertical-align: top;\n",
       "    }\n",
       "\n",
       "    .dataframe thead th {\n",
       "        text-align: right;\n",
       "    }\n",
       "</style>\n",
       "<table border=\"1\" class=\"dataframe\">\n",
       "  <thead>\n",
       "    <tr style=\"text-align: right;\">\n",
       "      <th></th>\n",
       "      <th>InvestmentType</th>\n",
       "      <th>AmountInUSD</th>\n",
       "    </tr>\n",
       "  </thead>\n",
       "  <tbody>\n",
       "    <tr>\n",
       "      <th>0</th>\n",
       "      <td>Private Equity</td>\n",
       "      <td>13,00,000</td>\n",
       "    </tr>\n",
       "    <tr>\n",
       "      <th>3</th>\n",
       "      <td>Seed Funding</td>\n",
       "      <td>5,00,000</td>\n",
       "    </tr>\n",
       "    <tr>\n",
       "      <th>4</th>\n",
       "      <td>Seed Funding</td>\n",
       "      <td>8,50,000</td>\n",
       "    </tr>\n",
       "    <tr>\n",
       "      <th>5</th>\n",
       "      <td>Seed Funding</td>\n",
       "      <td>10,00,000</td>\n",
       "    </tr>\n",
       "    <tr>\n",
       "      <th>6</th>\n",
       "      <td>Private Equity</td>\n",
       "      <td>26,00,000</td>\n",
       "    </tr>\n",
       "    <tr>\n",
       "      <th>...</th>\n",
       "      <td>...</td>\n",
       "      <td>...</td>\n",
       "    </tr>\n",
       "    <tr>\n",
       "      <th>2366</th>\n",
       "      <td>Private Equity</td>\n",
       "      <td>25,00,000</td>\n",
       "    </tr>\n",
       "    <tr>\n",
       "      <th>2367</th>\n",
       "      <td>Private Equity</td>\n",
       "      <td>45,00,000</td>\n",
       "    </tr>\n",
       "    <tr>\n",
       "      <th>2368</th>\n",
       "      <td>Private Equity</td>\n",
       "      <td>8,25,000</td>\n",
       "    </tr>\n",
       "    <tr>\n",
       "      <th>2369</th>\n",
       "      <td>Private Equity</td>\n",
       "      <td>15,00,000</td>\n",
       "    </tr>\n",
       "    <tr>\n",
       "      <th>2371</th>\n",
       "      <td>Seed Funding</td>\n",
       "      <td>1,40,000</td>\n",
       "    </tr>\n",
       "  </tbody>\n",
       "</table>\n",
       "<p>1525 rows × 2 columns</p>\n",
       "</div>"
      ],
      "text/plain": [
       "      InvestmentType AmountInUSD\n",
       "0     Private Equity   13,00,000\n",
       "3       Seed Funding    5,00,000\n",
       "4       Seed Funding    8,50,000\n",
       "5       Seed Funding   10,00,000\n",
       "6     Private Equity   26,00,000\n",
       "...              ...         ...\n",
       "2366  Private Equity   25,00,000\n",
       "2367  Private Equity   45,00,000\n",
       "2368  Private Equity    8,25,000\n",
       "2369  Private Equity   15,00,000\n",
       "2371    Seed Funding    1,40,000\n",
       "\n",
       "[1525 rows x 2 columns]"
      ]
     },
     "execution_count": 274,
     "metadata": {},
     "output_type": "execute_result"
    }
   ],
   "source": [
    "df4"
   ]
  },
  {
   "cell_type": "code",
   "execution_count": 275,
   "id": "0418258a",
   "metadata": {},
   "outputs": [
    {
     "data": {
      "text/plain": [
       "Private Equity    827\n",
       "Seed Funding      672\n",
       "SeedFunding        22\n",
       "Debt Funding        1\n",
       "PrivateEquity       1\n",
       "Crowd funding       1\n",
       "Crowd Funding       1\n",
       "Name: InvestmentType, dtype: int64"
      ]
     },
     "execution_count": 275,
     "metadata": {},
     "output_type": "execute_result"
    }
   ],
   "source": [
    "# As there are four types of investments\n",
    "\n",
    "df4['InvestmentType'].value_counts()"
   ]
  },
  {
   "cell_type": "code",
   "execution_count": 279,
   "id": "1886e8a5",
   "metadata": {},
   "outputs": [],
   "source": [
    "amt_details = []\n",
    "for i in list(df4['AmountInUSD']):\n",
    "    amt_details.append(int(i.replace(',','')))"
   ]
  },
  {
   "cell_type": "code",
   "execution_count": 293,
   "id": "c2856e2e",
   "metadata": {},
   "outputs": [
    {
     "data": {
      "text/plain": [
       "18347386476"
      ]
     },
     "execution_count": 293,
     "metadata": {},
     "output_type": "execute_result"
    }
   ],
   "source": [
    "tot = 0\n",
    "for z in amt_details:\n",
    "    tot = z + tot\n",
    "\n",
    "total_amt_invested = tot\n",
    "tot"
   ]
  },
  {
   "cell_type": "code",
   "execution_count": 291,
   "id": "5a3128ad",
   "metadata": {},
   "outputs": [],
   "source": [
    "type_of_funding = ['Private Equity', 'Seed Funding', 'Debt Funding', 'Crowd Funding']\n",
    "each_type_fund_value = []\n",
    "number_of_each_fund = []\n",
    "for i in type_of_funding:\n",
    "    df5 = df4.loc[(df4['InvestmentType'].str.startswith(i[0]))]\n",
    "    total_fund = 0\n",
    "    number_of_each_fund.append(df5.shape[0])\n",
    "    for j in list(df5['AmountInUSD']):\n",
    "        total_fund = total_fund + int(j.replace(',',''))\n",
    "    \n",
    "    each_type_fund_value.append(total_fund)\n",
    "    "
   ]
  },
  {
   "cell_type": "code",
   "execution_count": 292,
   "id": "dc3a4a0c",
   "metadata": {},
   "outputs": [
    {
     "name": "stdout",
     "output_type": "stream",
     "text": [
      "['Private Equity', 'Seed Funding', 'Debt Funding', 'Crowd Funding']\n",
      "[828, 694, 1, 2]\n",
      "[18007085000, 332345708, 7800000, 155768]\n"
     ]
    }
   ],
   "source": [
    "print(type_of_funding)\n",
    "print(number_of_each_fund)\n",
    "print(each_type_fund_value)"
   ]
  },
  {
   "cell_type": "code",
   "execution_count": 294,
   "id": "cc6368df",
   "metadata": {},
   "outputs": [
    {
     "name": "stdout",
     "output_type": "stream",
     "text": [
      "Private Equity  98.15\n",
      "Seed Funding  1.81\n",
      "Debt Funding  0.04\n",
      "Crowd Funding  0.00\n"
     ]
    }
   ],
   "source": [
    "dic2 = dict(zip(type_of_funding, each_type_fund_value))\n",
    "for i in dic2:\n",
    "    j = (dic2[i]*100)/tot\n",
    "    print(i,'','%.2f' % j)"
   ]
  },
  {
   "cell_type": "code",
   "execution_count": 645,
   "id": "f97dba6a",
   "metadata": {},
   "outputs": [
    {
     "data": {
      "image/png": "[encoded data removed]",
      "text/plain": [
       "<Figure size 432x288 with 1 Axes>"
      ]
     },
     "metadata": {},
     "output_type": "display_data"
    },
    {
     "data": {
      "image/png": "[encoded data removed]",
      "text/plain": [
       "<Figure size 360x360 with 1 Axes>"
      ]
     },
     "metadata": {
      "needs_background": "light"
     },
     "output_type": "display_data"
    }
   ],
   "source": [
    "myexplode = [0, 0, 1, 4]\n",
    "plt.pie(each_type_fund_value, labels = type_of_funding, radius = 2, autopct='%0.10f%%', explode = myexplode, colors=['yellow','red','orange','green'])\n",
    "plt.legend(title = 'type_of_funding',loc='right', bbox_to_anchor=(2.2,1.0))\n",
    "plt.title('Percentage of amount funded for each investment type')\n",
    "\n",
    "plt.show()\n",
    "\n",
    "plt.figure(figsize=(5,5))\n",
    "plt.barh(type_of_funding, number_of_each_fund)\n",
    "plt.title('Number of each fund')\n",
    "\n",
    "\n",
    "for i, v in enumerate(number_of_each_fund):\n",
    "    plt.text(v + 3, i + .25, str(v),\n",
    "            color = 'blue', fontweight = 'bold')\n",
    "plt.show()"
   ]
  },
  {
   "cell_type": "markdown",
   "id": "6651520f",
   "metadata": {},
   "source": [
    "# Type of companies easily got funding"
   ]
  },
  {
   "cell_type": "code",
   "execution_count": 470,
   "id": "eb7f6b1e",
   "metadata": {},
   "outputs": [],
   "source": [
    "df6 = data.loc[(data['AmountInUSD'] != 'Data Unavailable'),['IndustryVertical', 'AmountInUSD']]"
   ]
  },
  {
   "cell_type": "code",
   "execution_count": 471,
   "id": "f5639c7b",
   "metadata": {
    "scrolled": true
   },
   "outputs": [],
   "source": [
    "df7 = df6['IndustryVertical'].value_counts()[0:7].drop('Data Unavailable')"
   ]
  },
  {
   "cell_type": "code",
   "execution_count": 472,
   "id": "ef8104a3",
   "metadata": {},
   "outputs": [
    {
     "data": {
      "text/plain": [
       "Consumer Internet    461\n",
       "Technology           189\n",
       "eCommerce            113\n",
       "ECommerce             32\n",
       "Logistics             16\n",
       "Education             15\n",
       "Name: IndustryVertical, dtype: int64"
      ]
     },
     "execution_count": 472,
     "metadata": {},
     "output_type": "execute_result"
    }
   ],
   "source": [
    "df7"
   ]
  },
  {
   "cell_type": "code",
   "execution_count": 473,
   "id": "8d023e7c",
   "metadata": {},
   "outputs": [
    {
     "name": "stdout",
     "output_type": "stream",
     "text": [
      "['Consumer Internet', 'Technology', 'Ecommerce', 'Logistics', 'Education']\n"
     ]
    },
    {
     "data": {
      "text/plain": [
       "[461, 189, 145, 16, 15]"
      ]
     },
     "execution_count": 473,
     "metadata": {},
     "output_type": "execute_result"
    }
   ],
   "source": [
    "top_5_industry = list(df7.keys())\n",
    "top_5_industry.remove('eCommerce')\n",
    "top_5_industry[2] = 'Ecommerce'\n",
    "\n",
    "\n",
    "ecom = df7[2] + df7[3]\n",
    "count_each_industry_type = list(df7)\n",
    "del count_each_industry_type[2:4]\n",
    "count_each_industry_type.insert(2,ecom)\n",
    "\n",
    "\n",
    "print(top_5_industry)\n",
    "count_each_industry_type"
   ]
  },
  {
   "cell_type": "code",
   "execution_count": 495,
   "id": "c12ea324",
   "metadata": {},
   "outputs": [],
   "source": [
    "each_industry_funded_value = []\n",
    "count_of_each_industry_type = []\n",
    "for i in top_5_industry:\n",
    "    if i == 'Ecommerce':\n",
    "        df7 = df6.loc[(df6['IndustryVertical'].str.startswith('ommerce')) | (df6['IndustryVertical'].str.endswith('ommerce'))]\n",
    "        \n",
    "    else:\n",
    "        df7 = df6.loc[(df6['IndustryVertical'].str.startswith(i)) | (df6['IndustryVertical'].str.endswith(i))]\n",
    "    \n",
    "    count_of_each_industry_type.append(df7.shape[0])\n",
    "    total_fund_each_industry = 0\n",
    "    for j in list(df7['AmountInUSD']):\n",
    "        total_fund_each_industry = total_fund_each_industry + int(j.replace(',',''))\n",
    "        \n",
    "    each_industry_funded_value.append(total_fund_each_industry)\n",
    "    "
   ]
  },
  {
   "cell_type": "code",
   "execution_count": 496,
   "id": "57be7393",
   "metadata": {},
   "outputs": [
    {
     "name": "stdout",
     "output_type": "stream",
     "text": [
      "['Consumer Internet', 'Technology', 'Ecommerce', 'Logistics', 'Education']\n",
      "[3797089000, 1103593500, 4396289608, 445220000, 118583000]\n",
      "[461, 189, 157, 29, 18]\n"
     ]
    }
   ],
   "source": [
    "print(top_5_industry)\n",
    "print(each_industry_funded_value)\n",
    "print(count_of_each_industry_type)"
   ]
  },
  {
   "cell_type": "code",
   "execution_count": 542,
   "id": "e0f72636",
   "metadata": {},
   "outputs": [
    {
     "name": "stdout",
     "output_type": "stream",
     "text": [
      "Ecommerce  23.96\n",
      "Consumer Internet  20.70\n",
      "Technology  6.01\n",
      "Logistics  2.43\n",
      "Education  0.65\n"
     ]
    }
   ],
   "source": [
    "dic3 = dict(zip(top_5_industry, each_industry_funded_value))\n",
    "lis = {}\n",
    "for i in dic3:\n",
    "    j = (dic3[i]*100)/tot\n",
    "    lis[i] = j    \n",
    "\n",
    "lis1 = sorted(lis.items(), key=lambda x:x[1])\n",
    "for i in range(len(lis1)-1,-1,-1):\n",
    "    print(lis1[i][0],'', '%.2f' % lis1[i][1])\n"
   ]
  },
  {
   "cell_type": "markdown",
   "id": "6251d558",
   "metadata": {},
   "source": [
    "# Top startups with most amount of total funding"
   ]
  },
  {
   "cell_type": "code",
   "execution_count": 568,
   "id": "db74fe58",
   "metadata": {},
   "outputs": [
    {
     "data": {
      "text/html": [
       "<div>\n",
       "<style scoped>\n",
       "    .dataframe tbody tr th:only-of-type {\n",
       "        vertical-align: middle;\n",
       "    }\n",
       "\n",
       "    .dataframe tbody tr th {\n",
       "        vertical-align: top;\n",
       "    }\n",
       "\n",
       "    .dataframe thead th {\n",
       "        text-align: right;\n",
       "    }\n",
       "</style>\n",
       "<table border=\"1\" class=\"dataframe\">\n",
       "  <thead>\n",
       "    <tr style=\"text-align: right;\">\n",
       "      <th></th>\n",
       "      <th>SNo</th>\n",
       "      <th>Date</th>\n",
       "      <th>StartupName</th>\n",
       "      <th>IndustryVertical</th>\n",
       "      <th>SubVertical</th>\n",
       "      <th>CityLocation</th>\n",
       "      <th>InvestorsName</th>\n",
       "      <th>InvestmentType</th>\n",
       "      <th>AmountInUSD</th>\n",
       "      <th>Remarks</th>\n",
       "    </tr>\n",
       "  </thead>\n",
       "  <tbody>\n",
       "    <tr>\n",
       "      <th>0</th>\n",
       "      <td>0</td>\n",
       "      <td>01-08-2017</td>\n",
       "      <td>TouchKin</td>\n",
       "      <td>Technology</td>\n",
       "      <td>Predictive Care Platform</td>\n",
       "      <td>Bangalore</td>\n",
       "      <td>Kae Capital</td>\n",
       "      <td>Private Equity</td>\n",
       "      <td>13,00,000</td>\n",
       "      <td>NaN</td>\n",
       "    </tr>\n",
       "    <tr>\n",
       "      <th>1</th>\n",
       "      <td>1</td>\n",
       "      <td>02-08-2017</td>\n",
       "      <td>Ethinos</td>\n",
       "      <td>Technology</td>\n",
       "      <td>Digital Marketing Agency</td>\n",
       "      <td>Mumbai</td>\n",
       "      <td>Triton Investment Advisors</td>\n",
       "      <td>Private Equity</td>\n",
       "      <td>NaN</td>\n",
       "      <td>NaN</td>\n",
       "    </tr>\n",
       "    <tr>\n",
       "      <th>2</th>\n",
       "      <td>2</td>\n",
       "      <td>02-08-2017</td>\n",
       "      <td>Leverage Edu</td>\n",
       "      <td>Consumer Internet</td>\n",
       "      <td>Online platform for Higher Education Services</td>\n",
       "      <td>New Delhi</td>\n",
       "      <td>Kashyap Deorah, Anand Sankeshwar, Deepak Jain,...</td>\n",
       "      <td>Seed Funding</td>\n",
       "      <td>NaN</td>\n",
       "      <td>NaN</td>\n",
       "    </tr>\n",
       "    <tr>\n",
       "      <th>3</th>\n",
       "      <td>3</td>\n",
       "      <td>02-08-2017</td>\n",
       "      <td>Zepo</td>\n",
       "      <td>Consumer Internet</td>\n",
       "      <td>DIY Ecommerce platform</td>\n",
       "      <td>Mumbai</td>\n",
       "      <td>Kunal Shah, LetsVenture, Anupam Mittal, Hetal ...</td>\n",
       "      <td>Seed Funding</td>\n",
       "      <td>5,00,000</td>\n",
       "      <td>NaN</td>\n",
       "    </tr>\n",
       "    <tr>\n",
       "      <th>4</th>\n",
       "      <td>4</td>\n",
       "      <td>02-08-2017</td>\n",
       "      <td>Click2Clinic</td>\n",
       "      <td>Consumer Internet</td>\n",
       "      <td>healthcare service aggregator</td>\n",
       "      <td>Hyderabad</td>\n",
       "      <td>Narottam Thudi, Shireesh Palle</td>\n",
       "      <td>Seed Funding</td>\n",
       "      <td>8,50,000</td>\n",
       "      <td>NaN</td>\n",
       "    </tr>\n",
       "  </tbody>\n",
       "</table>\n",
       "</div>"
      ],
      "text/plain": [
       "   SNo        Date   StartupName   IndustryVertical  \\\n",
       "0    0  01-08-2017      TouchKin         Technology   \n",
       "1    1  02-08-2017       Ethinos         Technology   \n",
       "2    2  02-08-2017  Leverage Edu  Consumer Internet   \n",
       "3    3  02-08-2017          Zepo  Consumer Internet   \n",
       "4    4  02-08-2017  Click2Clinic  Consumer Internet   \n",
       "\n",
       "                                     SubVertical CityLocation  \\\n",
       "0                       Predictive Care Platform    Bangalore   \n",
       "1                       Digital Marketing Agency       Mumbai   \n",
       "2  Online platform for Higher Education Services    New Delhi   \n",
       "3                         DIY Ecommerce platform       Mumbai   \n",
       "4                  healthcare service aggregator    Hyderabad   \n",
       "\n",
       "                                       InvestorsName  InvestmentType  \\\n",
       "0                                        Kae Capital  Private Equity   \n",
       "1                         Triton Investment Advisors  Private Equity   \n",
       "2  Kashyap Deorah, Anand Sankeshwar, Deepak Jain,...    Seed Funding   \n",
       "3  Kunal Shah, LetsVenture, Anupam Mittal, Hetal ...    Seed Funding   \n",
       "4                     Narottam Thudi, Shireesh Palle    Seed Funding   \n",
       "\n",
       "  AmountInUSD Remarks  \n",
       "0   13,00,000     NaN  \n",
       "1         NaN     NaN  \n",
       "2         NaN     NaN  \n",
       "3    5,00,000     NaN  \n",
       "4    8,50,000     NaN  "
      ]
     },
     "execution_count": 568,
     "metadata": {},
     "output_type": "execute_result"
    }
   ],
   "source": [
    "data.head()"
   ]
  },
  {
   "cell_type": "code",
   "execution_count": 586,
   "id": "2b6f7d48",
   "metadata": {},
   "outputs": [],
   "source": [
    "df8 = data.loc[(data['AmountInUSD'] != 'Data Unavailable'), ['StartupName','AmountInUSD']]"
   ]
  },
  {
   "cell_type": "code",
   "execution_count": 587,
   "id": "8fb32624",
   "metadata": {},
   "outputs": [],
   "source": [
    "df8.head()\n",
    "df8['AmountInUSD'] =df8['AmountInUSD'].fillna('0,0')"
   ]
  },
  {
   "cell_type": "code",
   "execution_count": 588,
   "id": "a2758306",
   "metadata": {},
   "outputs": [
    {
     "data": {
      "text/plain": [
       "Ola          9\n",
       "Swiggy       7\n",
       "UrbanClap    6\n",
       "Paytm        6\n",
       "OYO          6\n",
       "Medinfi      5\n",
       "Jugnoo       5\n",
       "NoBroker     5\n",
       "Flipkart     5\n",
       "Niki.ai      4\n",
       "Name: StartupName, dtype: int64"
      ]
     },
     "execution_count": 588,
     "metadata": {},
     "output_type": "execute_result"
    }
   ],
   "source": [
    "df8['StartupName'].value_counts()[0:10]"
   ]
  },
  {
   "cell_type": "code",
   "execution_count": 589,
   "id": "fd6caf9f",
   "metadata": {},
   "outputs": [],
   "source": [
    "top_6_startup = ['Ola', 'Swiggy', 'UrbanClap', 'Paytm', 'OYO', 'Flipkart']\n",
    "each_startup_fund_value = []\n",
    "number_of_times_each_startup_raises_fund = []\n",
    "for i in top_6_startup:\n",
    "    df9 = df8.loc[(df8['StartupName'].str.startswith(i))]\n",
    "    total_fund_each_startup = 0\n",
    "    number_of_times_each_startup_raises_fund.append(df9.shape[0])\n",
    "    for j in list(df9['AmountInUSD']):\n",
    "        total_fund_each_startup = total_fund_each_startup + int(j.replace(',',''))\n",
    "    \n",
    "    each_startup_fund_value.append(total_fund_each_startup)"
   ]
  },
  {
   "cell_type": "code",
   "execution_count": 592,
   "id": "6e1eba57",
   "metadata": {},
   "outputs": [
    {
     "name": "stdout",
     "output_type": "stream",
     "text": [
      "['Ola', 'Swiggy', 'UrbanClap', 'Paytm', 'OYO', 'Flipkart']\n",
      "[1899500000, 170500000, 60700000, 2340000000, 637000000, 2259700000]\n",
      "[9, 7, 6, 6, 7, 5]\n"
     ]
    }
   ],
   "source": [
    "print(top_6_startup)\n",
    "print(each_startup_fund_value)\n",
    "print(number_of_times_each_startup_raises_fund)"
   ]
  },
  {
   "cell_type": "code",
   "execution_count": null,
   "id": "ec5a4eb3",
   "metadata": {},
   "outputs": [],
   "source": []
  },
  {
   "cell_type": "code",
   "execution_count": 601,
   "id": "9e09bdac",
   "metadata": {},
   "outputs": [
    {
     "name": "stdout",
     "output_type": "stream",
     "text": [
      "Paytm  2340000000\n",
      "Flipkart  2259700000\n",
      "Ola  1899500000\n",
      "OYO  637000000\n",
      "Swiggy  170500000\n",
      "UrbanClap  60700000\n"
     ]
    }
   ],
   "source": [
    "dic4 = dict(zip(top_6_startup, each_startup_fund_value))\n",
    "\n",
    "lis1 = sorted(dic4.items(), key=lambda x:x[1])\n",
    "for i in range(len(lis1)-1,-1,-1):\n",
    "    print(lis1[i][0],'',  lis1[i][1])"
   ]
  },
  {
   "cell_type": "markdown",
   "id": "9508f5c2",
   "metadata": {},
   "source": [
    "# Top startups who received funding maxi. times"
   ]
  },
  {
   "cell_type": "code",
   "execution_count": 606,
   "id": "9950a7f1",
   "metadata": {},
   "outputs": [
    {
     "name": "stdout",
     "output_type": "stream",
     "text": [
      "Ola  9\n",
      "Swiggy  7\n",
      "UrbanClap  6\n",
      "Paytm  6\n",
      "OYO  7\n",
      "Flipkart  5\n"
     ]
    }
   ],
   "source": [
    "dic5 = dict(zip(top_6_startup, number_of_times_each_startup_raises_fund))\n",
    "for i in dic5:\n",
    "    print(i,'',dic5[i])"
   ]
  },
  {
   "cell_type": "code",
   "execution_count": 646,
   "id": "a8e07a29",
   "metadata": {},
   "outputs": [
    {
     "data": {
      "image/png": "[encoded data removed]",
      "text/plain": [
       "<Figure size 432x288 with 1 Axes>"
      ]
     },
     "metadata": {
      "needs_background": "light"
     },
     "output_type": "display_data"
    }
   ],
   "source": [
    "plt.bar(top_6_startup, number_of_times_each_startup_raises_fund,color=['g','orange','black','b','r','yellow'])\n",
    "plt.title('Startups who received funding maxi. times')\n",
    "\n",
    "plt.grid(True)\n",
    "plt.show()"
   ]
  },
  {
   "cell_type": "markdown",
   "id": "73d19978",
   "metadata": {},
   "source": [
    "# Top Investors"
   ]
  },
  {
   "cell_type": "code",
   "execution_count": 119,
   "id": "b93d102a",
   "metadata": {},
   "outputs": [],
   "source": [
    "df10 = data.loc[(data['AmountInUSD'] != 'Data Unavailable'), ['InvestorsName','AmountInUSD','StartupName']]"
   ]
  },
  {
   "cell_type": "code",
   "execution_count": 120,
   "id": "d354fc3c",
   "metadata": {},
   "outputs": [],
   "source": [
    "df10['InvestorsName'].replace('Undisclosed investors', 'Undisclosed Investors', inplace = True)\n",
    "df10['InvestorsName'].replace('Undisclosed Investors', '', inplace = True)"
   ]
  },
  {
   "cell_type": "code",
   "execution_count": 121,
   "id": "ae94bbfc",
   "metadata": {},
   "outputs": [],
   "source": [
    "df11 = df10['InvestorsName']"
   ]
  },
  {
   "cell_type": "code",
   "execution_count": 122,
   "id": "9a7e3929",
   "metadata": {
    "scrolled": true
   },
   "outputs": [
    {
     "name": "stdout",
     "output_type": "stream",
     "text": [
      "['Kalaari Capital', 'Accel Partners', 'Sequoia Capital', 'Blume Ventures', '', 'SAIF Partners']\n",
      "[40, 44, 58, 27, 45, 37]\n"
     ]
    }
   ],
   "source": [
    "investors = []\n",
    "investor_name = []\n",
    "no_of_times_invested = []\n",
    "for i in df11:\n",
    "    df12 = i.strip().split(', ')\n",
    "    for j in df12:\n",
    "        investors.append(j)\n",
    "investors       \n",
    "\n",
    "for i in range(len(investors)):\n",
    "    count = 1\n",
    "    if investors[i] in investor_name:\n",
    "        pass\n",
    "    else:\n",
    "        for j in range(i+1,len(investors)):\n",
    "            if investors[i] == investors[j]:\n",
    "                count += 1\n",
    "            else:\n",
    "                pass\n",
    "        if count > 25:\n",
    "            investor_name.append(investors[i])\n",
    "            no_of_times_invested.append(count)\n",
    "        else:\n",
    "            pass\n",
    "\n",
    "print(investor_name)\n",
    "print(no_of_times_invested)"
   ]
  },
  {
   "cell_type": "code",
   "execution_count": 123,
   "id": "46cd42f3",
   "metadata": {},
   "outputs": [
    {
     "name": "stdout",
     "output_type": "stream",
     "text": [
      "Sequoia Capital  58\n",
      "Accel Partners  44\n",
      "Kalaari Capital  40\n",
      "SAIF Partners  37\n",
      "Blume Ventures  27\n"
     ]
    }
   ],
   "source": [
    "investment_detail = dict(zip(investor_name,no_of_times_invested))\n",
    "del investment_detail['']\n",
    "\n",
    "\n",
    "invest_list = sorted(investment_detail.items(), key=lambda x:x[1])\n",
    "for i in range(len(invest_list)-1,-1,-1):\n",
    "    print(invest_list[i][0],'',  invest_list[i][1])"
   ]
  },
  {
   "cell_type": "code",
   "execution_count": 128,
   "id": "120d3f0b",
   "metadata": {},
   "outputs": [
    {
     "data": {
      "image/png": "[encoded data removed]",
      "text/plain": [
       "<Figure size 432x288 with 1 Axes>"
      ]
     },
     "metadata": {
      "needs_background": "light"
     },
     "output_type": "display_data"
    }
   ],
   "source": [
    "top_investors = list(investment_detail.keys())\n",
    "no_of_investments = list(investment_detail.values())\n",
    "\n",
    "plt.bar(top_investors,no_of_investments, color = 'r')\n",
    "plt.grid(True)\n",
    "plt.title('Investors who invested maximum times')\n",
    "plt.xticks(rotation=40)\n",
    "plt.xlabel('Top_investors')\n",
    "plt.ylabel('No_of_investments')\n",
    "\n",
    "plt.show()"
   ]
  },
  {
   "cell_type": "code",
   "execution_count": null,
   "id": "bb030261",
   "metadata": {},
   "outputs": [],
   "source": []
  }
 ],
 "metadata": {
  "kernelspec": {
   "display_name": "Python 3 (ipykernel)",
   "language": "python",
   "name": "python3"
  },
  "language_info": {
   "codemirror_mode": {
    "name": "ipython",
    "version": 3
   },
   "file_extension": ".py",
   "mimetype": "text/x-python",
   "name": "python",
   "nbconvert_exporter": "python",
   "pygments_lexer": "ipython3",
   "version": "3.9.12"
  }
 },
 "nbformat": 4,
 "nbformat_minor": 5
}
